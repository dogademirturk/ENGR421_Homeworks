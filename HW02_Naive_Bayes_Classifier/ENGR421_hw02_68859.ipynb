{
 "cells": [
  {
   "cell_type": "code",
   "execution_count": 1,
   "id": "aff82d67",
   "metadata": {},
   "outputs": [],
   "source": [
    "import matplotlib.pyplot as plt\n",
    "import numpy as np\n",
    "import pandas as pd\n",
    "\n",
    "def safelog(x):\n",
    "    return(np.log(x + 1e-100))"
   ]
  },
  {
   "cell_type": "code",
   "execution_count": 2,
   "id": "ec1e87b9",
   "metadata": {},
   "outputs": [],
   "source": [
    "# read data into memory\n",
    "images_data_set = np.genfromtxt(\"hw02_images.csv\", delimiter = \",\")\n",
    "labels_data_set = np.genfromtxt(\"hw02_labels.csv\", delimiter = \",\").astype(int)"
   ]
  },
  {
   "cell_type": "code",
   "execution_count": 3,
   "id": "a5c96bfb",
   "metadata": {},
   "outputs": [],
   "source": [
    "# divide data set into two parts: training set and test set\n",
    "x_training = images_data_set[0:30000, :]\n",
    "x_test = images_data_set[30000:35000, :]\n",
    "y_training = labels_data_set[0:30000]\n",
    "y_test = labels_data_set[30000:35000]"
   ]
  },
  {
   "cell_type": "code",
   "execution_count": 4,
   "id": "c0aea5da",
   "metadata": {},
   "outputs": [],
   "source": [
    "# get number of classes and number of samples\n",
    "K = np.max(y_training)"
   ]
  },
  {
   "cell_type": "code",
   "execution_count": 5,
   "id": "cdfb56d5",
   "metadata": {},
   "outputs": [],
   "source": [
    "# calculate sample means\n",
    "sample_means = np.array([np.mean(x_training[y_training == (c + 1)], axis=0) for c in range(K)])"
   ]
  },
  {
   "cell_type": "code",
   "execution_count": 6,
   "id": "8386b9fe",
   "metadata": {},
   "outputs": [
    {
     "name": "stdout",
     "output_type": "stream",
     "text": [
      "[[254.99866667 254.98416667 254.85616667 ... 254.679      254.87816667\n",
      "  254.95933333]\n",
      " [254.99733333 254.99733333 254.9965     ... 254.96883333 254.99216667\n",
      "  254.98866667]\n",
      " [254.99933333 254.99933333 254.99233333 ... 251.52483333 254.4725\n",
      "  254.97483333]\n",
      " [254.99666667 254.98983333 254.91416667 ... 252.39516667 254.44166667\n",
      "  254.93666667]\n",
      " [254.999      254.98433333 254.93783333 ... 250.673      253.23333333\n",
      "  254.79083333]]\n"
     ]
    }
   ],
   "source": [
    "print(sample_means)"
   ]
  },
  {
   "cell_type": "code",
   "execution_count": 7,
   "id": "d7934a47",
   "metadata": {},
   "outputs": [],
   "source": [
    "# calculate sample deviations\n",
    "sample_deviations = np.array([np.std(x_training[y_training == (c + 1)], axis=0) for c in range(K)])"
   ]
  },
  {
   "cell_type": "code",
   "execution_count": 8,
   "id": "ee8ffc2e",
   "metadata": {},
   "outputs": [
    {
     "name": "stdout",
     "output_type": "stream",
     "text": [
      "[[ 0.09127736  0.25609108  1.31090756 ...  5.29826629  3.9117332\n",
      "   1.93959091]\n",
      " [ 0.2065419   0.2065419   0.2163818  ...  1.04076669  0.47057267\n",
      "   0.70062226]\n",
      " [ 0.05163547  0.04081939  0.16002465 ... 18.43665868  6.7881694\n",
      "   1.1061344 ]\n",
      " [ 0.18436076  0.21617116  1.81046936 ... 15.67799977  6.34549162\n",
      "   1.79971911]\n",
      " [ 0.04471018  0.64582342  3.03248555 ... 23.62576428 13.9167006\n",
      "   4.4727787 ]]\n"
     ]
    }
   ],
   "source": [
    "print(sample_deviations)"
   ]
  },
  {
   "cell_type": "code",
   "execution_count": 9,
   "id": "8f61965b",
   "metadata": {},
   "outputs": [],
   "source": [
    "# calculate prior probabilities\n",
    "class_priors = np.array([np.mean(y_training == (c + 1)) for c in range(K)])"
   ]
  },
  {
   "cell_type": "code",
   "execution_count": 10,
   "id": "0870bf06",
   "metadata": {},
   "outputs": [
    {
     "name": "stdout",
     "output_type": "stream",
     "text": [
      "[0.2 0.2 0.2 0.2 0.2]\n"
     ]
    }
   ],
   "source": [
    "print(class_priors)"
   ]
  },
  {
   "cell_type": "code",
   "execution_count": 11,
   "id": "f481d78d",
   "metadata": {},
   "outputs": [],
   "source": [
    "# score value calculations\n",
    "def score(x):\n",
    "    score = []\n",
    "    for i in range(x.shape[0]):\n",
    "        score.append([- 1/2 * np.sum(np.square((x[i] - sample_means[c]) / sample_deviations[c]) + 2 * safelog(sample_deviations[c])) + safelog(class_priors[c]) for c in range(K)])    \n",
    "    return np.array(score)\n"
   ]
  },
  {
   "cell_type": "code",
   "execution_count": 12,
   "id": "bc7e7af8",
   "metadata": {},
   "outputs": [],
   "source": [
    "y_score_training = score(x_training)\n",
    "y_pred_training = np.argmax(y_score_training, axis=1) + 1\n",
    "confusion_matrix_training = pd.crosstab(y_pred_training, y_training, rownames = ['y_pred'], colnames = ['y_truth'])"
   ]
  },
  {
   "cell_type": "code",
   "execution_count": 13,
   "id": "e53ecf22",
   "metadata": {},
   "outputs": [
    {
     "name": "stdout",
     "output_type": "stream",
     "text": [
      "y_truth     1     2     3     4     5\n",
      "y_pred                               \n",
      "1        3685    49     4   679     6\n",
      "2        1430  5667  1140  1380   532\n",
      "3         508   208  4670  2948   893\n",
      "4         234    60   123   687   180\n",
      "5         143    16    63   306  4389\n"
     ]
    }
   ],
   "source": [
    "print(confusion_matrix_training)"
   ]
  },
  {
   "cell_type": "code",
   "execution_count": 14,
   "id": "e80ff6d8",
   "metadata": {},
   "outputs": [],
   "source": [
    "y_score_test = score(x_test)\n",
    "y_pred_test = np.argmax(y_score_test, axis=1) + 1\n",
    "confusion_matrix_test = pd.crosstab(y_pred_test, y_test, rownames = ['y_pred'], colnames = ['y_truth'])"
   ]
  },
  {
   "cell_type": "code",
   "execution_count": 15,
   "id": "33d7b6f9",
   "metadata": {},
   "outputs": [
    {
     "name": "stdout",
     "output_type": "stream",
     "text": [
      "y_truth    1    2    3    4    5\n",
      "y_pred                          \n",
      "1        597    6    0  114    1\n",
      "2        237  955  188  267   81\n",
      "3         92   25  785  462  167\n",
      "4         34   11   16  109   29\n",
      "5         40    3   11   48  722\n"
     ]
    }
   ],
   "source": [
    "print(confusion_matrix_test)"
   ]
  }
 ],
 "metadata": {
  "kernelspec": {
   "display_name": "Python 3",
   "language": "python",
   "name": "python3"
  },
  "language_info": {
   "codemirror_mode": {
    "name": "ipython",
    "version": 3
   },
   "file_extension": ".py",
   "mimetype": "text/x-python",
   "name": "python",
   "nbconvert_exporter": "python",
   "pygments_lexer": "ipython3",
   "version": "3.9.1"
  }
 },
 "nbformat": 4,
 "nbformat_minor": 5
}
