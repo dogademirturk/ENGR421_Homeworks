{
 "cells": [
  {
   "cell_type": "code",
   "execution_count": 1,
   "id": "001b0e80",
   "metadata": {},
   "outputs": [],
   "source": [
    "import math\n",
    "import matplotlib.pyplot as plt\n",
    "import numpy as np\n",
    "import scipy.stats as stats\n",
    "import scipy.linalg as linalg\n",
    "import pandas as pd"
   ]
  },
  {
   "cell_type": "markdown",
   "id": "696b8680",
   "metadata": {},
   "source": [
    "PARAMETERS"
   ]
  },
  {
   "cell_type": "code",
   "execution_count": 2,
   "id": "ff0c3aa5",
   "metadata": {},
   "outputs": [],
   "source": [
    "np.random.seed(521) # to fix the seed (if needed)\n",
    "\n",
    "# mean vectors\n",
    "class_means = np.array([[0.0, 2.5], [-2.5, -2.0], [+2.5, -2.0]])\n",
    "\n",
    "# covariance matrices\n",
    "class_matrices = np.array([[[3.2, 0.0], [0.0, 1.2]], [[1.2, 0.8], [0.8, 1.2]], [[1.2, -0.8], [-0.8, 1.2]]])\n",
    "\n",
    "# sample sizes\n",
    "class_sizes = np.array([120, 80, 100])"
   ]
  },
  {
   "cell_type": "markdown",
   "id": "e29cc882",
   "metadata": {},
   "source": [
    "DATA GENERATION"
   ]
  },
  {
   "cell_type": "code",
   "execution_count": 3,
   "id": "ee98addc",
   "metadata": {},
   "outputs": [],
   "source": [
    "# generate random samples\n",
    "points1 = np.random.multivariate_normal(class_means[0], class_matrices[0], class_sizes[0])\n",
    "points2 = np.random.multivariate_normal(class_means[1], class_matrices[1], class_sizes[1])\n",
    "points3 = np.random.multivariate_normal(class_means[2], class_matrices[2], class_sizes[2])\n",
    "\n",
    "x = np.concatenate((points1, points2, points3))\n",
    "\n",
    "# generate corresponding labels\n",
    "y = np.concatenate((np.repeat(1, class_sizes[0]), np.repeat(2, class_sizes[1]), np.repeat(3, class_sizes[2])))"
   ]
  },
  {
   "cell_type": "markdown",
   "id": "7d764b8b",
   "metadata": {},
   "source": [
    "PLOTTING DATA"
   ]
  },
  {
   "cell_type": "code",
   "execution_count": 4,
   "id": "1d15fade",
   "metadata": {},
   "outputs": [
    {
     "data": {
      "image/png": "[encoded data removed]",
      "text/plain": [
       "<Figure size 432x288 with 1 Axes>"
      ]
     },
     "metadata": {
      "needs_background": "light"
     },
     "output_type": "display_data"
    }
   ],
   "source": [
    "plt.plot(points1[:, 0], points1[:, 1], \"r.\")\n",
    "plt.plot(points2[:, 0], points2[:, 1], \"g.\")\n",
    "plt.plot(points3[:, 0], points3[:, 1], \"b.\")\n",
    "plt.axis('equal')\n",
    "\n",
    "plt.xlabel(\"x1\")\n",
    "plt.ylabel(\"x2\")\n",
    "plt.show()"
   ]
  },
  {
   "cell_type": "code",
   "execution_count": 5,
   "id": "d92aabb6",
   "metadata": {},
   "outputs": [],
   "source": [
    "# write data to a file\n",
    "##np.savetxt(\"hw1_data_set.csv\", np.stack((x[:, 0], x[:, 1], y), axis = 1), fmt = \"%f,%f,%d\")"
   ]
  },
  {
   "cell_type": "markdown",
   "id": "0478c22e",
   "metadata": {},
   "source": [
    "PARAMETER ESTIMATION"
   ]
  },
  {
   "cell_type": "code",
   "execution_count": 6,
   "id": "f66a6466",
   "metadata": {},
   "outputs": [],
   "source": [
    "# parameters\n",
    "K = 3 # class number\n",
    "N = 300 # number of data\n",
    "D = 2 # dimension of x"
   ]
  },
  {
   "cell_type": "code",
   "execution_count": 7,
   "id": "f3f8b2a5",
   "metadata": {},
   "outputs": [
    {
     "name": "stdout",
     "output_type": "stream",
     "text": [
      "[array([-0.06002766,  2.37891762]), array([-2.4831697 , -2.07440706]), array([ 2.56694496, -1.97561106])]\n"
     ]
    }
   ],
   "source": [
    "# calculate sample means\n",
    "sample_means = [np.mean(x[y == (c + 1)], axis=0) for c in range(K)] # takes the same labels (1s then 2s then 3s)\n",
    "print(sample_means)"
   ]
  },
  {
   "cell_type": "code",
   "execution_count": 8,
   "id": "a54783cd",
   "metadata": {},
   "outputs": [
    {
     "name": "stdout",
     "output_type": "stream",
     "text": [
      "[array([[3.50095118, 0.31087727],\n",
      "       [0.31087727, 1.21501353]]), array([[1.19789275, 0.64059317],\n",
      "       [0.64059317, 0.95264859]]), array([[ 1.25199541, -0.79696981],\n",
      "       [-0.79696981,  1.17191479]])]\n"
     ]
    }
   ],
   "source": [
    "# calculate sample covariances\n",
    "sample_covariances = [np.matmul((x[y == (c + 1)] - sample_means[c]).T, (x[y == (c + 1)] - sample_means[c]))/np.count_nonzero(y == (c + 1)) for c in range(K)]\n",
    "                    # the first term is transposed here since numpy.matrix returns 1xD matrix when applied to the first one but it should be Dx1\n",
    "print(sample_covariances)"
   ]
  },
  {
   "cell_type": "code",
   "execution_count": 9,
   "id": "47c7f277",
   "metadata": {},
   "outputs": [
    {
     "name": "stdout",
     "output_type": "stream",
     "text": [
      "[0.4, 0.26666666666666666, 0.3333333333333333]\n"
     ]
    }
   ],
   "source": [
    "# calculate prior probabilities\n",
    "class_priors = [np.mean(y == (c + 1)) for c in range(K)]\n",
    "print(class_priors)"
   ]
  },
  {
   "cell_type": "code",
   "execution_count": 10,
   "id": "9ee20ee4",
   "metadata": {},
   "outputs": [],
   "source": [
    "# score value calculations\n",
    "Wc = [-0.5 * linalg.cho_solve(linalg.cho_factor(sample_covariances[c]), np.eye(2)) for c in range (K)] \n",
    "wc = [np.matmul(linalg.cho_solve(linalg.cho_factor(sample_covariances[c]), np.eye(2)), sample_means[c]) for c in range (K)]\n",
    "wc0 = [-1/2 * np.matmul(np.matmul(sample_means[c], linalg.cho_solve(linalg.cho_factor(sample_covariances[c]), np.eye(2))), sample_means[c].T) \n",
    "       - D/2 * np.log(2 * np.pi)\n",
    "       - 1/2 * np.log(linalg.det(sample_covariances[c]))\n",
    "       + np.log(class_priors[c]) for c in range(K)]"
   ]
  },
  {
   "cell_type": "code",
   "execution_count": 11,
   "id": "365e0ffe",
   "metadata": {},
   "outputs": [],
   "source": [
    "# calculate score values\n",
    "score_values = []\n",
    "for i in range(N):\n",
    "    score_values.append(np.stack([np.matmul(np.matmul(x[i], Wc[c]), x[i].T) + np.matmul(wc[c].T, x[i].T) + wc0[c]\n",
    "                         for c in range(K)]))"
   ]
  },
  {
   "cell_type": "code",
   "execution_count": 12,
   "id": "4fb8333c",
   "metadata": {},
   "outputs": [
    {
     "name": "stdout",
     "output_type": "stream",
     "text": [
      "y_truth    1   2   3\n",
      "y_pred              \n",
      "1        119   1   2\n",
      "2          1  79   0\n",
      "3          0   0  98\n"
     ]
    }
   ],
   "source": [
    "# confusion matrix representation\n",
    "y_pred = np.argmax(score_values, axis=1) + 1\n",
    "confusion_matrix = pd.crosstab(np.array(y_pred), y, rownames = ['y_pred'], colnames = ['y_truth'])\n",
    "print(confusion_matrix)"
   ]
  },
  {
   "cell_type": "code",
   "execution_count": 13,
   "id": "261907a6",
   "metadata": {},
   "outputs": [
    {
     "data": {
      "image/png": "[encoded data removed]",
      "text/plain": [
       "<Figure size 432x288 with 1 Axes>"
      ]
     },
     "metadata": {
      "needs_background": "light"
     },
     "output_type": "display_data"
    }
   ],
   "source": [
    "plt.plot(points1[:, 0], points1[:, 1], \"r.\")\n",
    "plt.plot(points2[:, 0], points2[:, 1], \"g.\")\n",
    "plt.plot(points3[:, 0], points3[:, 1], \"b.\")\n",
    "plt.axis('equal')\n",
    "\n",
    "plt.xlabel(\"x1\")\n",
    "plt.ylabel(\"x2\")\n",
    "plt.show()"
   ]
  },
  {
   "cell_type": "code",
   "execution_count": 14,
   "id": "e74a5acd",
   "metadata": {},
   "outputs": [
    {
     "data": {
      "image/png": "[encoded data removed]",
      "text/plain": [
       "<Figure size 576x576 with 1 Axes>"
      ]
     },
     "metadata": {
      "needs_background": "light"
     },
     "output_type": "display_data"
    }
   ],
   "source": [
    "# create grids to plot our data\n",
    "x1_interval = np.linspace(-6, +6, 1201)\n",
    "x2_interval = np.linspace(-6, +6, 1201)\n",
    "xx, yy = np.meshgrid(x1_interval, x2_interval)\n",
    "discriminant_values = np.zeros((len(x1_interval), len(x2_interval), K))\n",
    "\n",
    "\n",
    "# create decision boundaries\n",
    "for c in range(K):\n",
    "    discriminant_values[:,:,c] =Wc[c][0][0]*xx**2+ Wc[c][1][1]*yy**2+  Wc[c][1][0]*xx*yy+ wc[c][0] * xx + wc[c][1] * yy + wc0[c]\n",
    "    \n",
    "A = discriminant_values[:,:,0]\n",
    "B = discriminant_values[:,:,1]\n",
    "C = discriminant_values[:,:,2]\n",
    "A[(A < B) & (A < C)] = np.nan\n",
    "B[(B < A) & (B < C)] = np.nan\n",
    "C[(C < A) & (C < B)] = np.nan\n",
    "discriminant_values[:,:,0] = A\n",
    "discriminant_values[:,:,1] = B\n",
    "discriminant_values[:,:,2] = C\n",
    "plt.figure(figsize = (8, 8))\n",
    "plt.plot(x[y == 1, 0], x[y == 1, 1], \"r.\", markersize = 10)\n",
    "plt.plot(x[y == 2, 0], x[y == 2, 1], \"g.\", markersize = 10)\n",
    "plt.plot(x[y == 3, 0], x[y == 3, 1], \"b.\", markersize = 10)\n",
    "plt.plot(x[y_pred != y, 0], x[y_pred != y, 1], \"ko\", markersize = 12, fillstyle = \"none\")\n",
    "#plot lines\n",
    "plt.contour(xx, yy, discriminant_values[:,:,0] - discriminant_values[:,:,1], levels = 0, colors = \"k\")\n",
    "plt.contour(xx, yy, discriminant_values[:,:,0] - discriminant_values[:,:,2], levels = 0, colors = \"k\")\n",
    "plt.contour(xx, yy, discriminant_values[:,:,1] - discriminant_values[:,:,2], levels = 0, colors = \"k\")\n",
    "#color areas\n",
    "plt.xlabel(\"$x_1$\")\n",
    "plt.ylabel(\"$x_2$\")\n",
    "plt.show()"
   ]
  }
 ],
 "metadata": {
  "kernelspec": {
   "display_name": "Python 3",
   "language": "python",
   "name": "python3"
  },
  "language_info": {
   "codemirror_mode": {
    "name": "ipython",
    "version": 3
   },
   "file_extension": ".py",
   "mimetype": "text/x-python",
   "name": "python",
   "nbconvert_exporter": "python",
   "pygments_lexer": "ipython3",
   "version": "3.9.1"
  }
 },
 "nbformat": 4,
 "nbformat_minor": 5
}
