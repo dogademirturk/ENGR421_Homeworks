{
 "cells": [
  {
   "cell_type": "code",
   "execution_count": 1,
   "id": "77835eb4",
   "metadata": {},
   "outputs": [],
   "source": [
    "import matplotlib.pyplot as plt\n",
    "import numpy as np\n",
    "import scipy.spatial as spa\n",
    "import scipy.stats as st\n",
    "import scipy.linalg as linalg"
   ]
  },
  {
   "cell_type": "code",
   "execution_count": 2,
   "id": "b48405f7",
   "metadata": {},
   "outputs": [],
   "source": [
    "# mean parameters\n",
    "cluster_means = np.array([[+2.5, +2.5], \n",
    "                        [-2.5, +2.5], \n",
    "                        [-2.5, -2.5],\n",
    "                        [+2.5, -2.5],\n",
    "                        [-0.0, +0.0]])\n",
    "# covariance parameters\n",
    "cluster_covariances = np.array([[[+0.8, -0.6], \n",
    "                               [-0.6, +0.8]],\n",
    "                              [[+0.8, +0.6], \n",
    "                               [+0.6, +0.8]],\n",
    "                              [[+0.8, -0.6], \n",
    "                               [-0.6, +0.8]],\n",
    "                              [[+0.8, +0.6], \n",
    "                               [+0.6, +0.8]],\n",
    "                              [[+1.6, +0.0], \n",
    "                               [+0.0, +1.6]]])\n",
    "# sample sizes\n",
    "cluster_sizes = np.array([50, 50, 50, 50, 100])"
   ]
  },
  {
   "cell_type": "code",
   "execution_count": 3,
   "id": "28a324ef",
   "metadata": {},
   "outputs": [],
   "source": [
    "# read data into memory\n",
    "data_set = np.genfromtxt(\"hw07_data_set.csv\", delimiter = \",\")\n",
    "initial_centroids = np.genfromtxt(\"hw07_initial_centroids.csv\", delimiter = \",\")"
   ]
  },
  {
   "cell_type": "code",
   "execution_count": 4,
   "id": "ef49c725",
   "metadata": {},
   "outputs": [],
   "source": [
    "X = data_set\n",
    "\n",
    "K = initial_centroids.shape[0]\n",
    "N = X.shape[0]"
   ]
  },
  {
   "cell_type": "code",
   "execution_count": 5,
   "id": "0e7faa34",
   "metadata": {},
   "outputs": [],
   "source": [
    "def E_step(means, covariances, prior_probabilities, X):\n",
    "    memberships = np.zeros((N, K))\n",
    "    for k in range(K):\n",
    "        for i in range(N):\n",
    "            memberships[i, k] = st.multivariate_normal.pdf(X[i], means[k], covariances[k]) * prior_probabilities[k] / np.sum([st.multivariate_normal.pdf(X[i], means[c], covariances[c]) * prior_probabilities[c] for c in range(K)], axis = 0)\n",
    "    return memberships"
   ]
  },
  {
   "cell_type": "code",
   "execution_count": 6,
   "id": "30ae7eb8",
   "metadata": {},
   "outputs": [],
   "source": [
    "def M_step(memberships, X):\n",
    "    means = np.zeros((K, X.shape[1]))\n",
    "    covariances = np.zeros((K, X.shape[1], X.shape[1]))\n",
    "    prior_probabilities = np.zeros((K))\n",
    "    for k in range(K):\n",
    "        means[k] = np.sum([np.multiply(X[i], memberships[i, k]) for i in range(N)], axis = 0) / np.sum(memberships[range(N), k])\n",
    "        covariances[k] = np.sum([np.multiply(np.matmul(np.transpose(np.asmatrix(X[i] - means[k])), np.asmatrix(X[i] - means[k])), memberships[i, k]) for i in range(N)], axis = 0) / np.sum(memberships[range(N), k])\n",
    "        prior_probabilities[k] = np.sum(memberships[range(N), k], axis = 0) / N\n",
    "    return means, covariances, prior_probabilities"
   ]
  },
  {
   "cell_type": "code",
   "execution_count": 7,
   "id": "7aa21285",
   "metadata": {},
   "outputs": [],
   "source": [
    "#initialization\n",
    "means = initial_centroids\n",
    "\n",
    "D = spa.distance_matrix(means, X)\n",
    "memberships = np.zeros((N, K))\n",
    "memberships[range(N), np.argmin(D, axis = 0)] = 1\n",
    "\n",
    "covariances = np.zeros((K, X.shape[1], X.shape[1]))\n",
    "for k in range(K):\n",
    "    covariances[k] = np.sum([np.multiply(np.matmul(np.transpose(np.asmatrix(X[i] - means[k])), np.asmatrix(X[i] - means[k])), memberships[i, k]) for i in range(N)], axis = 0) / np.sum(memberships[range(N), k])\n",
    "\n",
    "prior_probabilities = np.sum(memberships, axis = 0) / N"
   ]
  },
  {
   "cell_type": "code",
   "execution_count": 8,
   "id": "43752212",
   "metadata": {},
   "outputs": [
    {
     "name": "stdout",
     "output_type": "stream",
     "text": [
      "[[[ 0.80960599 -0.46324747]\n",
      "  [-0.46324747  3.80320539]]\n",
      "\n",
      " [[ 2.33101247 -0.30181859]\n",
      "  [-0.30181859  0.38012916]]\n",
      "\n",
      " [[ 3.80999897  0.69724587]\n",
      "  [ 0.69724587  0.8340096 ]]\n",
      "\n",
      " [[ 2.28896457  0.77160495]\n",
      "  [ 0.77160495  1.17030957]]\n",
      "\n",
      " [[ 0.48980953  0.08037706]\n",
      "  [ 0.08037706  0.53808927]]]\n"
     ]
    }
   ],
   "source": [
    "print(covariances)"
   ]
  },
  {
   "cell_type": "code",
   "execution_count": null,
   "id": "2a860484",
   "metadata": {},
   "outputs": [],
   "source": [
    "#iterations\n",
    "for i in range(100):\n",
    "    means, covariances, prior_probabilities = M_step(memberships, X)\n",
    "    memberships = E_step(means, covariances, prior_probabilities, X)\n",
    "    \n",
    "print(means)"
   ]
  },
  {
   "cell_type": "code",
   "execution_count": null,
   "id": "dec77bbe",
   "metadata": {},
   "outputs": [],
   "source": [
    "cluster_colors = np.array([\"#377eb8\", \"#4daf4a\", \"#e41a1c\", \"#ff7f00\", \"#984ea3\"])\n",
    "\n",
    "fig = plt.figure(figsize = (7, 7))\n",
    "\n",
    "memberships_final = np.argmax(memberships, axis = 1)\n",
    "\n",
    "x1 = np.linspace(-5,5,1001)  \n",
    "x2 = np.linspace(-5,5,1001)\n",
    "XX, Y = np.meshgrid(x1, x2) \n",
    "pos = np.empty(XX.shape + (2,))                \n",
    "pos[:, :, 0] = XX; pos[:, :, 1] = Y\n",
    "\n",
    "for c in range(K):\n",
    "    plt.plot(X[memberships_final == c, 0], X[memberships_final == c, 1], \".\", markersize = 10, \n",
    "                color = cluster_colors[c])\n",
    "    plt.contour(XX, Y, st.multivariate_normal(cluster_means[c], cluster_covariances[c]).pdf(pos), 1, colors = \"black\", linestyles = \"dashed\")\n",
    "    plt.contour(XX, Y, st.multivariate_normal(means[c], covariances[c]).pdf(pos), 1, colors = cluster_colors[c], linestyles = \"solid\")\n",
    "    \n",
    "plt.xlabel(\"$x_1$\")\n",
    "plt.ylabel(\"$x_2$\")\n",
    "plt.show()"
   ]
  }
 ],
 "metadata": {
  "kernelspec": {
   "display_name": "Python 3",
   "language": "python",
   "name": "python3"
  },
  "language_info": {
   "codemirror_mode": {
    "name": "ipython",
    "version": 3
   },
   "file_extension": ".py",
   "mimetype": "text/x-python",
   "name": "python",
   "nbconvert_exporter": "python",
   "pygments_lexer": "ipython3",
   "version": "3.9.1"
  }
 },
 "nbformat": 4,
 "nbformat_minor": 5
}
